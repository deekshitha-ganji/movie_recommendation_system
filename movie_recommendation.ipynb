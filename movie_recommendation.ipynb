{
 "cells": [
  {
   "cell_type": "code",
   "execution_count": 1,
   "metadata": {
    "execution": {
     "iopub.execute_input": "2024-11-17T15:32:58.672194Z",
     "iopub.status.busy": "2024-11-17T15:32:58.671696Z",
     "iopub.status.idle": "2024-11-17T15:33:00.014983Z",
     "shell.execute_reply": "2024-11-17T15:33:00.013547Z",
     "shell.execute_reply.started": "2024-11-17T15:32:58.672150Z"
    }
   },
   "outputs": [],
   "source": [
    "import numpy as np\n",
    "import pandas as pd"
   ]
  },
  {
   "cell_type": "code",
   "execution_count": 2,
   "metadata": {
    "execution": {
     "iopub.execute_input": "2024-11-17T15:33:16.178240Z",
     "iopub.status.busy": "2024-11-17T15:33:16.177528Z",
     "iopub.status.idle": "2024-11-17T15:33:17.582983Z",
     "shell.execute_reply": "2024-11-17T15:33:17.581706Z",
     "shell.execute_reply.started": "2024-11-17T15:33:16.178181Z"
    }
   },
   "outputs": [],
   "source": [
    "import matplotlib.pyplot as plt\n",
    "import seaborn as sns"
   ]
  },
  {
   "cell_type": "markdown",
   "metadata": {},
   "source": [
    "## Importing the required dataset"
   ]
  },
  {
   "cell_type": "code",
   "execution_count": 3,
   "metadata": {
    "execution": {
     "iopub.execute_input": "2024-11-17T15:33:21.376669Z",
     "iopub.status.busy": "2024-11-17T15:33:21.376046Z",
     "iopub.status.idle": "2024-11-17T15:33:46.840969Z",
     "shell.execute_reply": "2024-11-17T15:33:46.839441Z",
     "shell.execute_reply.started": "2024-11-17T15:33:21.376622Z"
    }
   },
   "outputs": [],
   "source": [
    "rating_df = pd.read_csv('/kaggle/input/movielens-20m-dataset/rating.csv')\n",
    "movie_df = pd.read_csv('/kaggle/input/movielens-20m-dataset/movie.csv')"
   ]
  },
  {
   "cell_type": "code",
   "execution_count": 49,
   "metadata": {
    "execution": {
     "iopub.execute_input": "2024-11-17T13:35:10.265031Z",
     "iopub.status.busy": "2024-11-17T13:35:10.264540Z",
     "iopub.status.idle": "2024-11-17T13:35:10.280744Z",
     "shell.execute_reply": "2024-11-17T13:35:10.279575Z",
     "shell.execute_reply.started": "2024-11-17T13:35:10.264987Z"
    }
   },
   "outputs": [
    {
     "data": {
      "text/html": [
       "<div>\n",
       "<style scoped>\n",
       "    .dataframe tbody tr th:only-of-type {\n",
       "        vertical-align: middle;\n",
       "    }\n",
       "\n",
       "    .dataframe tbody tr th {\n",
       "        vertical-align: top;\n",
       "    }\n",
       "\n",
       "    .dataframe thead th {\n",
       "        text-align: right;\n",
       "    }\n",
       "</style>\n",
       "<table border=\"1\" class=\"dataframe\">\n",
       "  <thead>\n",
       "    <tr style=\"text-align: right;\">\n",
       "      <th></th>\n",
       "      <th>userId</th>\n",
       "      <th>movieId</th>\n",
       "      <th>rating</th>\n",
       "      <th>timestamp</th>\n",
       "    </tr>\n",
       "  </thead>\n",
       "  <tbody>\n",
       "    <tr>\n",
       "      <th>0</th>\n",
       "      <td>1</td>\n",
       "      <td>2</td>\n",
       "      <td>3.5</td>\n",
       "      <td>2005-04-02 23:53:47</td>\n",
       "    </tr>\n",
       "    <tr>\n",
       "      <th>1</th>\n",
       "      <td>1</td>\n",
       "      <td>29</td>\n",
       "      <td>3.5</td>\n",
       "      <td>2005-04-02 23:31:16</td>\n",
       "    </tr>\n",
       "    <tr>\n",
       "      <th>2</th>\n",
       "      <td>1</td>\n",
       "      <td>32</td>\n",
       "      <td>3.5</td>\n",
       "      <td>2005-04-02 23:33:39</td>\n",
       "    </tr>\n",
       "    <tr>\n",
       "      <th>3</th>\n",
       "      <td>1</td>\n",
       "      <td>47</td>\n",
       "      <td>3.5</td>\n",
       "      <td>2005-04-02 23:32:07</td>\n",
       "    </tr>\n",
       "    <tr>\n",
       "      <th>4</th>\n",
       "      <td>1</td>\n",
       "      <td>50</td>\n",
       "      <td>3.5</td>\n",
       "      <td>2005-04-02 23:29:40</td>\n",
       "    </tr>\n",
       "  </tbody>\n",
       "</table>\n",
       "</div>"
      ],
      "text/plain": [
       "   userId  movieId  rating            timestamp\n",
       "0       1        2     3.5  2005-04-02 23:53:47\n",
       "1       1       29     3.5  2005-04-02 23:31:16\n",
       "2       1       32     3.5  2005-04-02 23:33:39\n",
       "3       1       47     3.5  2005-04-02 23:32:07\n",
       "4       1       50     3.5  2005-04-02 23:29:40"
      ]
     },
     "execution_count": 49,
     "metadata": {},
     "output_type": "execute_result"
    }
   ],
   "source": [
    "rating_df.head()"
   ]
  },
  {
   "cell_type": "code",
   "execution_count": 50,
   "metadata": {
    "execution": {
     "iopub.execute_input": "2024-11-17T13:35:13.258320Z",
     "iopub.status.busy": "2024-11-17T13:35:13.256495Z",
     "iopub.status.idle": "2024-11-17T13:35:13.273665Z",
     "shell.execute_reply": "2024-11-17T13:35:13.271987Z",
     "shell.execute_reply.started": "2024-11-17T13:35:13.258231Z"
    }
   },
   "outputs": [
    {
     "data": {
      "text/html": [
       "<div>\n",
       "<style scoped>\n",
       "    .dataframe tbody tr th:only-of-type {\n",
       "        vertical-align: middle;\n",
       "    }\n",
       "\n",
       "    .dataframe tbody tr th {\n",
       "        vertical-align: top;\n",
       "    }\n",
       "\n",
       "    .dataframe thead th {\n",
       "        text-align: right;\n",
       "    }\n",
       "</style>\n",
       "<table border=\"1\" class=\"dataframe\">\n",
       "  <thead>\n",
       "    <tr style=\"text-align: right;\">\n",
       "      <th></th>\n",
       "      <th>movieId</th>\n",
       "      <th>title</th>\n",
       "      <th>genres</th>\n",
       "    </tr>\n",
       "  </thead>\n",
       "  <tbody>\n",
       "    <tr>\n",
       "      <th>0</th>\n",
       "      <td>1</td>\n",
       "      <td>Toy Story (1995)</td>\n",
       "      <td>Adventure|Animation|Children|Comedy|Fantasy</td>\n",
       "    </tr>\n",
       "    <tr>\n",
       "      <th>1</th>\n",
       "      <td>2</td>\n",
       "      <td>Jumanji (1995)</td>\n",
       "      <td>Adventure|Children|Fantasy</td>\n",
       "    </tr>\n",
       "    <tr>\n",
       "      <th>2</th>\n",
       "      <td>3</td>\n",
       "      <td>Grumpier Old Men (1995)</td>\n",
       "      <td>Comedy|Romance</td>\n",
       "    </tr>\n",
       "    <tr>\n",
       "      <th>3</th>\n",
       "      <td>4</td>\n",
       "      <td>Waiting to Exhale (1995)</td>\n",
       "      <td>Comedy|Drama|Romance</td>\n",
       "    </tr>\n",
       "    <tr>\n",
       "      <th>4</th>\n",
       "      <td>5</td>\n",
       "      <td>Father of the Bride Part II (1995)</td>\n",
       "      <td>Comedy</td>\n",
       "    </tr>\n",
       "  </tbody>\n",
       "</table>\n",
       "</div>"
      ],
      "text/plain": [
       "   movieId                               title  \\\n",
       "0        1                    Toy Story (1995)   \n",
       "1        2                      Jumanji (1995)   \n",
       "2        3             Grumpier Old Men (1995)   \n",
       "3        4            Waiting to Exhale (1995)   \n",
       "4        5  Father of the Bride Part II (1995)   \n",
       "\n",
       "                                        genres  \n",
       "0  Adventure|Animation|Children|Comedy|Fantasy  \n",
       "1                   Adventure|Children|Fantasy  \n",
       "2                               Comedy|Romance  \n",
       "3                         Comedy|Drama|Romance  \n",
       "4                                       Comedy  "
      ]
     },
     "execution_count": 50,
     "metadata": {},
     "output_type": "execute_result"
    }
   ],
   "source": [
    "movie_df.head()"
   ]
  },
  {
   "cell_type": "markdown",
   "metadata": {},
   "source": [
    "## EDA on Rating Dataset"
   ]
  },
  {
   "cell_type": "code",
   "execution_count": 41,
   "metadata": {
    "execution": {
     "iopub.execute_input": "2024-11-17T04:18:41.067996Z",
     "iopub.status.busy": "2024-11-17T04:18:41.067578Z",
     "iopub.status.idle": "2024-11-17T04:18:41.079574Z",
     "shell.execute_reply": "2024-11-17T04:18:41.078320Z",
     "shell.execute_reply.started": "2024-11-17T04:18:41.067958Z"
    }
   },
   "outputs": [
    {
     "name": "stdout",
     "output_type": "stream",
     "text": [
      "<class 'pandas.core.frame.DataFrame'>\n",
      "RangeIndex: 20000263 entries, 0 to 20000262\n",
      "Data columns (total 4 columns):\n",
      " #   Column     Dtype  \n",
      "---  ------     -----  \n",
      " 0   userId     int64  \n",
      " 1   movieId    int64  \n",
      " 2   rating     float64\n",
      " 3   timestamp  object \n",
      "dtypes: float64(1), int64(2), object(1)\n",
      "memory usage: 610.4+ MB\n",
      "None\n"
     ]
    }
   ],
   "source": [
    "print(rating_df.info())"
   ]
  },
  {
   "cell_type": "code",
   "execution_count": 42,
   "metadata": {
    "execution": {
     "iopub.execute_input": "2024-11-17T04:18:45.462350Z",
     "iopub.status.busy": "2024-11-17T04:18:45.461287Z",
     "iopub.status.idle": "2024-11-17T04:18:45.469458Z",
     "shell.execute_reply": "2024-11-17T04:18:45.468169Z",
     "shell.execute_reply.started": "2024-11-17T04:18:45.462302Z"
    }
   },
   "outputs": [
    {
     "data": {
      "text/plain": [
       "(20000263, 4)"
      ]
     },
     "execution_count": 42,
     "metadata": {},
     "output_type": "execute_result"
    }
   ],
   "source": [
    "rating_df.shape"
   ]
  },
  {
   "cell_type": "code",
   "execution_count": 4,
   "metadata": {
    "execution": {
     "iopub.execute_input": "2024-11-17T15:34:00.366887Z",
     "iopub.status.busy": "2024-11-17T15:34:00.366426Z",
     "iopub.status.idle": "2024-11-17T15:34:06.482782Z",
     "shell.execute_reply": "2024-11-17T15:34:06.481577Z",
     "shell.execute_reply.started": "2024-11-17T15:34:00.366844Z"
    }
   },
   "outputs": [
    {
     "data": {
      "text/plain": [
       "(20000263, 4)"
      ]
     },
     "execution_count": 4,
     "metadata": {},
     "output_type": "execute_result"
    }
   ],
   "source": [
    "rating_df = rating_df.drop_duplicates(subset=['userId', 'movieId'], keep='first')\n",
    "rating_df.shape"
   ]
  },
  {
   "cell_type": "code",
   "execution_count": 5,
   "metadata": {
    "execution": {
     "iopub.execute_input": "2024-11-17T15:34:15.367997Z",
     "iopub.status.busy": "2024-11-17T15:34:15.367577Z",
     "iopub.status.idle": "2024-11-17T15:34:16.412688Z",
     "shell.execute_reply": "2024-11-17T15:34:16.411237Z",
     "shell.execute_reply.started": "2024-11-17T15:34:15.367959Z"
    }
   },
   "outputs": [
    {
     "name": "stdout",
     "output_type": "stream",
     "text": [
      "Missing values:\n",
      "userId       0\n",
      "movieId      0\n",
      "rating       0\n",
      "timestamp    0\n",
      "dtype: int64\n"
     ]
    }
   ],
   "source": [
    "missing_values = rating_df.isnull().sum()\n",
    "print(f\"Missing values:\\n{missing_values}\")"
   ]
  },
  {
   "cell_type": "code",
   "execution_count": 13,
   "metadata": {
    "execution": {
     "iopub.execute_input": "2024-11-17T04:17:05.949208Z",
     "iopub.status.busy": "2024-11-17T04:17:05.948731Z",
     "iopub.status.idle": "2024-11-17T04:17:08.219545Z",
     "shell.execute_reply": "2024-11-17T04:17:08.218371Z",
     "shell.execute_reply.started": "2024-11-17T04:17:05.949153Z"
    }
   },
   "outputs": [
    {
     "data": {
      "image/png": "[encoded data removed]",
      "text/plain": [
       "<Figure size 800x600 with 1 Axes>"
      ]
     },
     "metadata": {},
     "output_type": "display_data"
    }
   ],
   "source": [
    "plt.figure(figsize=(8, 6))\n",
    "sns.countplot(x='rating', data=rating_df, palette='viridis')\n",
    "plt.title('Distribution of Ratings')\n",
    "plt.xlabel('Rating')\n",
    "plt.ylabel('Frequency')\n",
    "plt.show()"
   ]
  },
  {
   "cell_type": "code",
   "execution_count": 14,
   "metadata": {
    "execution": {
     "iopub.execute_input": "2024-11-17T04:17:08.222262Z",
     "iopub.status.busy": "2024-11-17T04:17:08.221283Z",
     "iopub.status.idle": "2024-11-17T04:17:09.843430Z",
     "shell.execute_reply": "2024-11-17T04:17:09.842305Z",
     "shell.execute_reply.started": "2024-11-17T04:17:08.222205Z"
    }
   },
   "outputs": [
    {
     "name": "stderr",
     "output_type": "stream",
     "text": [
      "/opt/conda/lib/python3.10/site-packages/seaborn/_oldcore.py:1119: FutureWarning: use_inf_as_na option is deprecated and will be removed in a future version. Convert inf values to NaN before operating instead.\n",
      "  with pd.option_context('mode.use_inf_as_na', True):\n"
     ]
    },
    {
     "data": {
      "image/png": "[encoded data removed]",
      "text/plain": [
       "<Figure size 800x600 with 1 Axes>"
      ]
     },
     "metadata": {},
     "output_type": "display_data"
    }
   ],
   "source": [
    "user_ratings_count = rating_df.groupby('userId').size()\n",
    "plt.figure(figsize=(8, 6))\n",
    "sns.histplot(user_ratings_count, bins=50, kde=True, color='blue')\n",
    "plt.title('Number of Ratings per User')\n",
    "plt.xlabel('Number of Ratings')\n",
    "plt.ylabel('Frequency')\n",
    "plt.show()"
   ]
  },
  {
   "cell_type": "code",
   "execution_count": 15,
   "metadata": {
    "execution": {
     "iopub.execute_input": "2024-11-17T04:17:09.845250Z",
     "iopub.status.busy": "2024-11-17T04:17:09.844889Z",
     "iopub.status.idle": "2024-11-17T04:17:11.035061Z",
     "shell.execute_reply": "2024-11-17T04:17:11.033882Z",
     "shell.execute_reply.started": "2024-11-17T04:17:09.845211Z"
    }
   },
   "outputs": [
    {
     "name": "stderr",
     "output_type": "stream",
     "text": [
      "/opt/conda/lib/python3.10/site-packages/seaborn/_oldcore.py:1119: FutureWarning: use_inf_as_na option is deprecated and will be removed in a future version. Convert inf values to NaN before operating instead.\n",
      "  with pd.option_context('mode.use_inf_as_na', True):\n"
     ]
    },
    {
     "data": {
      "image/png": "[encoded data removed]",
      "text/plain": [
       "<Figure size 800x600 with 1 Axes>"
      ]
     },
     "metadata": {},
     "output_type": "display_data"
    }
   ],
   "source": [
    "movie_ratings_count = rating_df.groupby('movieId').size()\n",
    "plt.figure(figsize=(8, 6))\n",
    "sns.histplot(movie_ratings_count, bins=50, kde=True, color='orange')\n",
    "plt.title('Number of Ratings per Movie')\n",
    "plt.xlabel('Number of Ratings')\n",
    "plt.ylabel('Frequency')\n",
    "plt.show()"
   ]
  },
  {
   "cell_type": "code",
   "execution_count": 16,
   "metadata": {
    "execution": {
     "iopub.execute_input": "2024-11-17T04:17:11.041092Z",
     "iopub.status.busy": "2024-11-17T04:17:11.040690Z",
     "iopub.status.idle": "2024-11-17T04:17:12.686618Z",
     "shell.execute_reply": "2024-11-17T04:17:12.685438Z",
     "shell.execute_reply.started": "2024-11-17T04:17:11.041050Z"
    }
   },
   "outputs": [
    {
     "name": "stderr",
     "output_type": "stream",
     "text": [
      "/opt/conda/lib/python3.10/site-packages/seaborn/_oldcore.py:1119: FutureWarning: use_inf_as_na option is deprecated and will be removed in a future version. Convert inf values to NaN before operating instead.\n",
      "  with pd.option_context('mode.use_inf_as_na', True):\n"
     ]
    },
    {
     "data": {
      "image/png": "[encoded data removed]",
      "text/plain": [
       "<Figure size 800x600 with 1 Axes>"
      ]
     },
     "metadata": {},
     "output_type": "display_data"
    }
   ],
   "source": [
    "user_avg_rating = rating_df.groupby('userId')['rating'].mean()\n",
    "plt.figure(figsize=(8, 6))\n",
    "sns.histplot(user_avg_rating, bins=50, kde=True, color='green')\n",
    "plt.title('Average Rating per User')\n",
    "plt.xlabel('Average Rating')\n",
    "plt.ylabel('Frequency')\n",
    "plt.show()"
   ]
  },
  {
   "cell_type": "code",
   "execution_count": 17,
   "metadata": {
    "execution": {
     "iopub.execute_input": "2024-11-17T04:17:12.688893Z",
     "iopub.status.busy": "2024-11-17T04:17:12.688424Z",
     "iopub.status.idle": "2024-11-17T04:17:13.879109Z",
     "shell.execute_reply": "2024-11-17T04:17:13.877917Z",
     "shell.execute_reply.started": "2024-11-17T04:17:12.688840Z"
    }
   },
   "outputs": [
    {
     "name": "stderr",
     "output_type": "stream",
     "text": [
      "/opt/conda/lib/python3.10/site-packages/seaborn/_oldcore.py:1119: FutureWarning: use_inf_as_na option is deprecated and will be removed in a future version. Convert inf values to NaN before operating instead.\n",
      "  with pd.option_context('mode.use_inf_as_na', True):\n"
     ]
    },
    {
     "data": {
      "image/png": "[encoded data removed]",
      "text/plain": [
       "<Figure size 800x600 with 1 Axes>"
      ]
     },
     "metadata": {},
     "output_type": "display_data"
    }
   ],
   "source": [
    "movie_avg_rating = rating_df.groupby('movieId')['rating'].mean()\n",
    "plt.figure(figsize=(8, 6))\n",
    "sns.histplot(movie_avg_rating, bins=50, kde=True, color='purple')\n",
    "plt.title('Average Rating per Movie')\n",
    "plt.xlabel('Average Rating')\n",
    "plt.ylabel('Frequency')\n",
    "plt.show()"
   ]
  },
  {
   "cell_type": "markdown",
   "metadata": {},
   "source": [
    "## EDA on movies dataset"
   ]
  },
  {
   "cell_type": "code",
   "execution_count": 45,
   "metadata": {
    "execution": {
     "iopub.execute_input": "2024-11-17T04:19:09.184026Z",
     "iopub.status.busy": "2024-11-17T04:19:09.183486Z",
     "iopub.status.idle": "2024-11-17T04:19:09.203105Z",
     "shell.execute_reply": "2024-11-17T04:19:09.201879Z",
     "shell.execute_reply.started": "2024-11-17T04:19:09.183971Z"
    }
   },
   "outputs": [
    {
     "name": "stdout",
     "output_type": "stream",
     "text": [
      "<class 'pandas.core.frame.DataFrame'>\n",
      "RangeIndex: 27278 entries, 0 to 27277\n",
      "Data columns (total 3 columns):\n",
      " #   Column   Non-Null Count  Dtype \n",
      "---  ------   --------------  ----- \n",
      " 0   movieId  27278 non-null  int64 \n",
      " 1   title    27278 non-null  object\n",
      " 2   genres   27278 non-null  object\n",
      "dtypes: int64(1), object(2)\n",
      "memory usage: 639.5+ KB\n",
      "None\n"
     ]
    }
   ],
   "source": [
    "print(movie_df.info())"
   ]
  },
  {
   "cell_type": "code",
   "execution_count": 6,
   "metadata": {
    "execution": {
     "iopub.execute_input": "2024-11-17T12:09:36.392561Z",
     "iopub.status.busy": "2024-11-17T12:09:36.392018Z",
     "iopub.status.idle": "2024-11-17T12:09:36.402447Z",
     "shell.execute_reply": "2024-11-17T12:09:36.400632Z",
     "shell.execute_reply.started": "2024-11-17T12:09:36.392517Z"
    }
   },
   "outputs": [
    {
     "data": {
      "text/plain": [
       "(27278, 3)"
      ]
     },
     "execution_count": 6,
     "metadata": {},
     "output_type": "execute_result"
    }
   ],
   "source": [
    "movie_df.shape"
   ]
  },
  {
   "cell_type": "code",
   "execution_count": 6,
   "metadata": {
    "execution": {
     "iopub.execute_input": "2024-11-17T15:34:30.637476Z",
     "iopub.status.busy": "2024-11-17T15:34:30.636584Z",
     "iopub.status.idle": "2024-11-17T15:34:30.656154Z",
     "shell.execute_reply": "2024-11-17T15:34:30.654867Z",
     "shell.execute_reply.started": "2024-11-17T15:34:30.637418Z"
    }
   },
   "outputs": [],
   "source": [
    "movie_df = movie_df.drop_duplicates(subset=['title'], keep='first')"
   ]
  },
  {
   "cell_type": "code",
   "execution_count": 7,
   "metadata": {
    "execution": {
     "iopub.execute_input": "2024-11-17T15:34:34.491425Z",
     "iopub.status.busy": "2024-11-17T15:34:34.490947Z",
     "iopub.status.idle": "2024-11-17T15:34:34.559023Z",
     "shell.execute_reply": "2024-11-17T15:34:34.557838Z",
     "shell.execute_reply.started": "2024-11-17T15:34:34.491379Z"
    }
   },
   "outputs": [
    {
     "name": "stdout",
     "output_type": "stream",
     "text": [
      "Number of duplicated normalized titles: 891\n"
     ]
    }
   ],
   "source": [
    "import re\n",
    "movie_df['normalized_title'] = movie_df['title'].str.replace(r'\\(\\d{4}\\)', '', regex=True).str.strip()\n",
    "\n",
    "duplicate_counts = movie_df['normalized_title'].value_counts()\n",
    "duplicate_titles = duplicate_counts[duplicate_counts > 1]\n",
    "print(f\"Number of duplicated normalized titles: {len(duplicate_titles)}\")"
   ]
  },
  {
   "cell_type": "code",
   "execution_count": 8,
   "metadata": {
    "execution": {
     "iopub.execute_input": "2024-11-17T15:34:38.946805Z",
     "iopub.status.busy": "2024-11-17T15:34:38.946350Z",
     "iopub.status.idle": "2024-11-17T15:34:38.961527Z",
     "shell.execute_reply": "2024-11-17T15:34:38.960271Z",
     "shell.execute_reply.started": "2024-11-17T15:34:38.946763Z"
    }
   },
   "outputs": [
    {
     "name": "stdout",
     "output_type": "stream",
     "text": [
      "Number of unique movies after removing duplicates: 26213\n"
     ]
    }
   ],
   "source": [
    "movie_df = movie_df.drop_duplicates(subset=['normalized_title'], keep='first')\n",
    "print(f\"Number of unique movies after removing duplicates: {movie_df.shape[0]}\")"
   ]
  },
  {
   "cell_type": "code",
   "execution_count": 9,
   "metadata": {
    "execution": {
     "iopub.execute_input": "2024-11-17T15:34:43.392109Z",
     "iopub.status.busy": "2024-11-17T15:34:43.391682Z",
     "iopub.status.idle": "2024-11-17T15:34:43.404632Z",
     "shell.execute_reply": "2024-11-17T15:34:43.403372Z",
     "shell.execute_reply.started": "2024-11-17T15:34:43.392067Z"
    }
   },
   "outputs": [
    {
     "name": "stdout",
     "output_type": "stream",
     "text": [
      "Missing values:\n",
      "movieId             0\n",
      "title               0\n",
      "genres              0\n",
      "normalized_title    0\n",
      "dtype: int64\n"
     ]
    }
   ],
   "source": [
    "missing_values_movies = movie_df.isnull().sum()\n",
    "print(f\"Missing values:\\n{missing_values_movies}\")"
   ]
  },
  {
   "cell_type": "code",
   "execution_count": 10,
   "metadata": {
    "execution": {
     "iopub.execute_input": "2024-11-17T15:34:47.176426Z",
     "iopub.status.busy": "2024-11-17T15:34:47.175983Z",
     "iopub.status.idle": "2024-11-17T15:34:47.355728Z",
     "shell.execute_reply": "2024-11-17T15:34:47.354295Z",
     "shell.execute_reply.started": "2024-11-17T15:34:47.176384Z"
    }
   },
   "outputs": [
    {
     "name": "stdout",
     "output_type": "stream",
     "text": [
      "Genres distribution:\n",
      "Drama                 12771\n",
      "Comedy                 8144\n",
      "Thriller               3931\n",
      "Romance                3920\n",
      "Action                 3348\n",
      "Crime                  2804\n",
      "Horror                 2457\n",
      "Documentary            2432\n",
      "Adventure              2199\n",
      "Sci-Fi                 1666\n",
      "Mystery                1442\n",
      "Fantasy                1333\n",
      "War                    1164\n",
      "Children               1095\n",
      "Animation               997\n",
      "Musical                 990\n",
      "Western                 651\n",
      "Film-Noir               309\n",
      "(no genres listed)      239\n",
      "IMAX                    184\n",
      "Name: count, dtype: int64\n"
     ]
    }
   ],
   "source": [
    "# splitting the genres by '|' and calculating the count for each genre\n",
    "genres = movie_df['genres'].str.split('|', expand=True).stack().value_counts()\n",
    "print(f\"Genres distribution:\\n{genres}\")\n"
   ]
  },
  {
   "cell_type": "code",
   "execution_count": 9,
   "metadata": {
    "execution": {
     "iopub.execute_input": "2024-11-17T10:37:50.629913Z",
     "iopub.status.busy": "2024-11-17T10:37:50.629451Z",
     "iopub.status.idle": "2024-11-17T10:37:51.066760Z",
     "shell.execute_reply": "2024-11-17T10:37:51.065667Z",
     "shell.execute_reply.started": "2024-11-17T10:37:50.629871Z"
    }
   },
   "outputs": [
    {
     "data": {
      "image/png": "[encoded data removed]",
      "text/plain": [
       "<Figure size 1000x600 with 1 Axes>"
      ]
     },
     "metadata": {},
     "output_type": "display_data"
    }
   ],
   "source": [
    "plt.figure(figsize=(10, 6))\n",
    "sns.barplot(x=genres.index, y=genres.values, palette='viridis')\n",
    "plt.title('Distribution of Genres')\n",
    "plt.xlabel('Genre')\n",
    "plt.ylabel('Frequency')\n",
    "plt.xticks(rotation=90)\n",
    "plt.show()"
   ]
  },
  {
   "cell_type": "code",
   "execution_count": 26,
   "metadata": {
    "execution": {
     "iopub.execute_input": "2024-11-17T04:17:14.697499Z",
     "iopub.status.busy": "2024-11-17T04:17:14.696313Z",
     "iopub.status.idle": "2024-11-17T04:17:15.371269Z",
     "shell.execute_reply": "2024-11-17T04:17:15.370038Z",
     "shell.execute_reply.started": "2024-11-17T04:17:14.697444Z"
    }
   },
   "outputs": [
    {
     "name": "stderr",
     "output_type": "stream",
     "text": [
      "/opt/conda/lib/python3.10/site-packages/seaborn/_oldcore.py:1119: FutureWarning: use_inf_as_na option is deprecated and will be removed in a future version. Convert inf values to NaN before operating instead.\n",
      "  with pd.option_context('mode.use_inf_as_na', True):\n"
     ]
    },
    {
     "data": {
      "image/png": "[encoded data removed]",
      "text/plain": [
       "<Figure size 1000x600 with 1 Axes>"
      ]
     },
     "metadata": {},
     "output_type": "display_data"
    }
   ],
   "source": [
    "movie_df['year'] = movie_df['title'].str.extract(r'\\((\\d{4})\\)')\n",
    "movie_df['year'] = pd.to_numeric(movie_df['year'], errors='coerce')\n",
    "\n",
    "plt.figure(figsize=(10, 6))\n",
    "sns.histplot(movie_df['year'], bins=50, kde=True, color='blue')\n",
    "plt.title('Movies Released per Year')\n",
    "plt.xlabel('Year')\n",
    "plt.ylabel('Number of Movies')\n",
    "plt.show()"
   ]
  },
  {
   "cell_type": "code",
   "execution_count": 11,
   "metadata": {
    "execution": {
     "iopub.execute_input": "2024-11-17T15:34:56.191776Z",
     "iopub.status.busy": "2024-11-17T15:34:56.190955Z",
     "iopub.status.idle": "2024-11-17T15:34:56.215665Z",
     "shell.execute_reply": "2024-11-17T15:34:56.214484Z",
     "shell.execute_reply.started": "2024-11-17T15:34:56.191723Z"
    }
   },
   "outputs": [
    {
     "name": "stdout",
     "output_type": "stream",
     "text": [
      "Most common movie titles:\n",
      "title\n",
      "Toy Story (1995)                                                  1\n",
      "Return of Django (Son of Django) (Figlio di Django, Il) (1968)    1\n",
      "Margin Call (2011)                                                1\n",
      "Assassination Games (2011)                                        1\n",
      "Lentsu (1990)                                                     1\n",
      "Name: count, dtype: int64\n"
     ]
    }
   ],
   "source": [
    "title_counts = movie_df['title'].value_counts()\n",
    "print(f\"Most common movie titles:\\n{title_counts.head()}\")"
   ]
  },
  {
   "cell_type": "code",
   "execution_count": 12,
   "metadata": {
    "execution": {
     "iopub.execute_input": "2024-11-17T15:35:09.340621Z",
     "iopub.status.busy": "2024-11-17T15:35:09.340180Z",
     "iopub.status.idle": "2024-11-17T15:35:09.366326Z",
     "shell.execute_reply": "2024-11-17T15:35:09.364750Z",
     "shell.execute_reply.started": "2024-11-17T15:35:09.340579Z"
    }
   },
   "outputs": [
    {
     "name": "stdout",
     "output_type": "stream",
     "text": [
      "Movies with multiple entries:\n",
      "Series([], Name: count, dtype: int64)\n"
     ]
    }
   ],
   "source": [
    "duplicate_titles_count = movie_df['title'].value_counts()\n",
    "duplicates_summary = duplicate_titles_count[duplicate_titles_count > 1]\n",
    "print(f\"Movies with multiple entries:\\n{duplicates_summary}\")"
   ]
  },
  {
   "cell_type": "code",
   "execution_count": 12,
   "metadata": {
    "execution": {
     "iopub.execute_input": "2024-11-17T15:01:38.634758Z",
     "iopub.status.busy": "2024-11-17T15:01:38.634308Z",
     "iopub.status.idle": "2024-11-17T15:01:38.641420Z",
     "shell.execute_reply": "2024-11-17T15:01:38.639983Z",
     "shell.execute_reply.started": "2024-11-17T15:01:38.634717Z"
    }
   },
   "outputs": [
    {
     "name": "stdout",
     "output_type": "stream",
     "text": [
      "Shape of Ratings Dataset:  (20000263, 4)\n",
      "Shape of Movies Dataset:  (26213, 4)\n"
     ]
    }
   ],
   "source": [
    "print(\"Shape of Ratings Dataset: \",rating_df.shape)\n",
    "print(\"Shape of Movies Dataset: \",movie_df.shape)"
   ]
  },
  {
   "cell_type": "code",
   "execution_count": 61,
   "metadata": {
    "execution": {
     "iopub.execute_input": "2024-11-17T04:26:31.638027Z",
     "iopub.status.busy": "2024-11-17T04:26:31.637253Z",
     "iopub.status.idle": "2024-11-17T04:26:39.595279Z",
     "shell.execute_reply": "2024-11-17T04:26:39.593666Z",
     "shell.execute_reply.started": "2024-11-17T04:26:31.637978Z"
    }
   },
   "outputs": [],
   "source": [
    "def calculate_mode(series):\n",
    "    return series.mode()[0]  \n",
    "mode_ratings = movies.groupby(['movieId', 'normalized_title'])['rating'].apply(calculate_mode).reset_index()\n",
    "\n",
    "mode_ratings.rename(columns={'rating': 'mode_rating'}, inplace=True)"
   ]
  },
  {
   "cell_type": "code",
   "execution_count": 62,
   "metadata": {
    "execution": {
     "iopub.execute_input": "2024-11-17T04:27:14.758977Z",
     "iopub.status.busy": "2024-11-17T04:27:14.758492Z",
     "iopub.status.idle": "2024-11-17T04:27:14.776854Z",
     "shell.execute_reply": "2024-11-17T04:27:14.775456Z",
     "shell.execute_reply.started": "2024-11-17T04:27:14.758931Z"
    }
   },
   "outputs": [
    {
     "data": {
      "text/html": [
       "<div>\n",
       "<style scoped>\n",
       "    .dataframe tbody tr th:only-of-type {\n",
       "        vertical-align: middle;\n",
       "    }\n",
       "\n",
       "    .dataframe tbody tr th {\n",
       "        vertical-align: top;\n",
       "    }\n",
       "\n",
       "    .dataframe thead th {\n",
       "        text-align: right;\n",
       "    }\n",
       "</style>\n",
       "<table border=\"1\" class=\"dataframe\">\n",
       "  <thead>\n",
       "    <tr style=\"text-align: right;\">\n",
       "      <th></th>\n",
       "      <th>movieId</th>\n",
       "      <th>normalized_title</th>\n",
       "      <th>mode_rating</th>\n",
       "    </tr>\n",
       "  </thead>\n",
       "  <tbody>\n",
       "    <tr>\n",
       "      <th>0</th>\n",
       "      <td>1</td>\n",
       "      <td>Toy Story</td>\n",
       "      <td>4.0</td>\n",
       "    </tr>\n",
       "    <tr>\n",
       "      <th>1</th>\n",
       "      <td>2</td>\n",
       "      <td>Jumanji</td>\n",
       "      <td>3.0</td>\n",
       "    </tr>\n",
       "    <tr>\n",
       "      <th>2</th>\n",
       "      <td>3</td>\n",
       "      <td>Grumpier Old Men</td>\n",
       "      <td>3.0</td>\n",
       "    </tr>\n",
       "    <tr>\n",
       "      <th>3</th>\n",
       "      <td>4</td>\n",
       "      <td>Waiting to Exhale</td>\n",
       "      <td>3.0</td>\n",
       "    </tr>\n",
       "    <tr>\n",
       "      <th>4</th>\n",
       "      <td>5</td>\n",
       "      <td>Father of the Bride Part II</td>\n",
       "      <td>3.0</td>\n",
       "    </tr>\n",
       "    <tr>\n",
       "      <th>...</th>\n",
       "      <td>...</td>\n",
       "      <td>...</td>\n",
       "      <td>...</td>\n",
       "    </tr>\n",
       "    <tr>\n",
       "      <th>25710</th>\n",
       "      <td>131252</td>\n",
       "      <td>Forklift Driver Klaus: The First Day on the Job</td>\n",
       "      <td>4.0</td>\n",
       "    </tr>\n",
       "    <tr>\n",
       "      <th>25711</th>\n",
       "      <td>131254</td>\n",
       "      <td>Kein Bund für's Leben</td>\n",
       "      <td>4.0</td>\n",
       "    </tr>\n",
       "    <tr>\n",
       "      <th>25712</th>\n",
       "      <td>131256</td>\n",
       "      <td>Feuer, Eis &amp; Dosenbier</td>\n",
       "      <td>4.0</td>\n",
       "    </tr>\n",
       "    <tr>\n",
       "      <th>25713</th>\n",
       "      <td>131258</td>\n",
       "      <td>The Pirates</td>\n",
       "      <td>2.5</td>\n",
       "    </tr>\n",
       "    <tr>\n",
       "      <th>25714</th>\n",
       "      <td>131260</td>\n",
       "      <td>Rentun Ruusu</td>\n",
       "      <td>3.0</td>\n",
       "    </tr>\n",
       "  </tbody>\n",
       "</table>\n",
       "<p>25715 rows × 3 columns</p>\n",
       "</div>"
      ],
      "text/plain": [
       "       movieId                                 normalized_title  mode_rating\n",
       "0            1                                        Toy Story          4.0\n",
       "1            2                                          Jumanji          3.0\n",
       "2            3                                 Grumpier Old Men          3.0\n",
       "3            4                                Waiting to Exhale          3.0\n",
       "4            5                      Father of the Bride Part II          3.0\n",
       "...        ...                                              ...          ...\n",
       "25710   131252  Forklift Driver Klaus: The First Day on the Job          4.0\n",
       "25711   131254                            Kein Bund für's Leben          4.0\n",
       "25712   131256                           Feuer, Eis & Dosenbier          4.0\n",
       "25713   131258                                      The Pirates          2.5\n",
       "25714   131260                                     Rentun Ruusu          3.0\n",
       "\n",
       "[25715 rows x 3 columns]"
      ]
     },
     "execution_count": 62,
     "metadata": {},
     "output_type": "execute_result"
    }
   ],
   "source": [
    "mode_ratings"
   ]
  },
  {
   "cell_type": "code",
   "execution_count": 63,
   "metadata": {
    "execution": {
     "iopub.execute_input": "2024-11-17T04:28:59.232823Z",
     "iopub.status.busy": "2024-11-17T04:28:59.231965Z",
     "iopub.status.idle": "2024-11-17T04:28:59.264267Z",
     "shell.execute_reply": "2024-11-17T04:28:59.262823Z",
     "shell.execute_reply.started": "2024-11-17T04:28:59.232767Z"
    },
    "scrolled": false
   },
   "outputs": [
    {
     "data": {
      "text/plain": [
       "normalized_title\n",
       "Toy Story                   1\n",
       "Hesher                      1\n",
       "Bill Cunningham New York    1\n",
       "Colombiana                  1\n",
       "Great White Silence, The    1\n",
       "                           ..\n",
       "Traffic (Trafic)            1\n",
       "Slither                     1\n",
       "Payday                      1\n",
       "Lady Sings the Blues        1\n",
       "Rentun Ruusu                1\n",
       "Name: count, Length: 25715, dtype: int64"
      ]
     },
     "execution_count": 63,
     "metadata": {},
     "output_type": "execute_result"
    }
   ],
   "source": [
    "mode_ratings['normalized_title'].value_counts()"
   ]
  },
  {
   "cell_type": "code",
   "execution_count": 64,
   "metadata": {
    "execution": {
     "iopub.execute_input": "2024-11-17T04:29:16.248666Z",
     "iopub.status.busy": "2024-11-17T04:29:16.248193Z",
     "iopub.status.idle": "2024-11-17T04:29:16.266837Z",
     "shell.execute_reply": "2024-11-17T04:29:16.265370Z",
     "shell.execute_reply.started": "2024-11-17T04:29:16.248621Z"
    }
   },
   "outputs": [
    {
     "name": "stdout",
     "output_type": "stream",
     "text": [
      "Number of duplicate rows: 0\n"
     ]
    }
   ],
   "source": [
    "duplicates = mode_ratings[mode_ratings.duplicated()]\n",
    "\n",
    "\n",
    "print(\"Number of duplicate rows:\", duplicates.shape[0])\n",
    "if not duplicates.empty:\n",
    "    print(duplicates)"
   ]
  },
  {
   "cell_type": "code",
   "execution_count": 65,
   "metadata": {
    "execution": {
     "iopub.execute_input": "2024-11-17T04:29:53.010336Z",
     "iopub.status.busy": "2024-11-17T04:29:53.009734Z",
     "iopub.status.idle": "2024-11-17T04:29:53.027788Z",
     "shell.execute_reply": "2024-11-17T04:29:53.026477Z",
     "shell.execute_reply.started": "2024-11-17T04:29:53.010252Z"
    }
   },
   "outputs": [
    {
     "data": {
      "text/plain": [
       "movieId             0\n",
       "normalized_title    0\n",
       "mode_rating         0\n",
       "dtype: int64"
      ]
     },
     "execution_count": 65,
     "metadata": {},
     "output_type": "execute_result"
    }
   ],
   "source": [
    "mode_ratings.isna().sum()"
   ]
  },
  {
   "cell_type": "code",
   "execution_count": 66,
   "metadata": {
    "execution": {
     "iopub.execute_input": "2024-11-17T04:31:00.183813Z",
     "iopub.status.busy": "2024-11-17T04:31:00.181920Z",
     "iopub.status.idle": "2024-11-17T04:31:00.598225Z",
     "shell.execute_reply": "2024-11-17T04:31:00.596931Z",
     "shell.execute_reply.started": "2024-11-17T04:31:00.183757Z"
    }
   },
   "outputs": [
    {
     "name": "stdout",
     "output_type": "stream",
     "text": [
      "mode_rating\n",
      "0.5     949\n",
      "1.0     887\n",
      "1.5     548\n",
      "2.0    1626\n",
      "2.5    1940\n",
      "3.0    8115\n",
      "3.5    3949\n",
      "4.0    6867\n",
      "4.5     410\n",
      "5.0     424\n",
      "Name: count, dtype: int64\n"
     ]
    },
    {
     "data": {
      "image/png": "[encoded data removed]",
      "text/plain": [
       "<Figure size 1000x600 with 1 Axes>"
      ]
     },
     "metadata": {},
     "output_type": "display_data"
    }
   ],
   "source": [
    "rating_counts = mode_ratings['mode_rating'].value_counts().sort_index()\n",
    "print(rating_counts)\n",
    "\n",
    "\n",
    "plt.figure(figsize=(10, 6))\n",
    "sns.barplot(x=rating_counts.index, y=rating_counts.values, palette='viridis')\n",
    "plt.title(\"Distribution of Mode Ratings\", fontsize=16)\n",
    "plt.xlabel(\"Ratings\", fontsize=14)\n",
    "plt.ylabel(\"Number of Movies\", fontsize=14)\n",
    "plt.xticks(rotation=45)\n",
    "plt.show()"
   ]
  },
  {
   "cell_type": "markdown",
   "metadata": {},
   "source": [
    "## Simplifying the data"
   ]
  },
  {
   "cell_type": "code",
   "execution_count": 14,
   "metadata": {
    "execution": {
     "iopub.execute_input": "2024-11-17T15:36:44.201483Z",
     "iopub.status.busy": "2024-11-17T15:36:44.201085Z",
     "iopub.status.idle": "2024-11-17T15:36:57.526768Z",
     "shell.execute_reply": "2024-11-17T15:36:57.525397Z",
     "shell.execute_reply.started": "2024-11-17T15:36:44.201440Z"
    }
   },
   "outputs": [],
   "source": [
    "movies = movie_df.merge(rating_df,on='movieId')"
   ]
  },
  {
   "cell_type": "code",
   "execution_count": 15,
   "metadata": {
    "execution": {
     "iopub.execute_input": "2024-11-17T15:39:45.292834Z",
     "iopub.status.busy": "2024-11-17T15:39:45.292353Z",
     "iopub.status.idle": "2024-11-17T15:39:45.318780Z",
     "shell.execute_reply": "2024-11-17T15:39:45.317684Z",
     "shell.execute_reply.started": "2024-11-17T15:39:45.292790Z"
    }
   },
   "outputs": [
    {
     "data": {
      "text/html": [
       "<div>\n",
       "<style scoped>\n",
       "    .dataframe tbody tr th:only-of-type {\n",
       "        vertical-align: middle;\n",
       "    }\n",
       "\n",
       "    .dataframe tbody tr th {\n",
       "        vertical-align: top;\n",
       "    }\n",
       "\n",
       "    .dataframe thead th {\n",
       "        text-align: right;\n",
       "    }\n",
       "</style>\n",
       "<table border=\"1\" class=\"dataframe\">\n",
       "  <thead>\n",
       "    <tr style=\"text-align: right;\">\n",
       "      <th></th>\n",
       "      <th>movieId</th>\n",
       "      <th>title</th>\n",
       "      <th>genres</th>\n",
       "      <th>normalized_title</th>\n",
       "      <th>userId</th>\n",
       "      <th>rating</th>\n",
       "      <th>timestamp</th>\n",
       "    </tr>\n",
       "  </thead>\n",
       "  <tbody>\n",
       "    <tr>\n",
       "      <th>0</th>\n",
       "      <td>1</td>\n",
       "      <td>Toy Story (1995)</td>\n",
       "      <td>Adventure|Animation|Children|Comedy|Fantasy</td>\n",
       "      <td>Toy Story</td>\n",
       "      <td>3</td>\n",
       "      <td>4.0</td>\n",
       "      <td>1999-12-11 13:36:47</td>\n",
       "    </tr>\n",
       "    <tr>\n",
       "      <th>1</th>\n",
       "      <td>1</td>\n",
       "      <td>Toy Story (1995)</td>\n",
       "      <td>Adventure|Animation|Children|Comedy|Fantasy</td>\n",
       "      <td>Toy Story</td>\n",
       "      <td>6</td>\n",
       "      <td>5.0</td>\n",
       "      <td>1997-03-13 17:50:52</td>\n",
       "    </tr>\n",
       "    <tr>\n",
       "      <th>2</th>\n",
       "      <td>1</td>\n",
       "      <td>Toy Story (1995)</td>\n",
       "      <td>Adventure|Animation|Children|Comedy|Fantasy</td>\n",
       "      <td>Toy Story</td>\n",
       "      <td>8</td>\n",
       "      <td>4.0</td>\n",
       "      <td>1996-06-05 13:37:51</td>\n",
       "    </tr>\n",
       "    <tr>\n",
       "      <th>3</th>\n",
       "      <td>1</td>\n",
       "      <td>Toy Story (1995)</td>\n",
       "      <td>Adventure|Animation|Children|Comedy|Fantasy</td>\n",
       "      <td>Toy Story</td>\n",
       "      <td>10</td>\n",
       "      <td>4.0</td>\n",
       "      <td>1999-11-25 02:44:47</td>\n",
       "    </tr>\n",
       "    <tr>\n",
       "      <th>4</th>\n",
       "      <td>1</td>\n",
       "      <td>Toy Story (1995)</td>\n",
       "      <td>Adventure|Animation|Children|Comedy|Fantasy</td>\n",
       "      <td>Toy Story</td>\n",
       "      <td>11</td>\n",
       "      <td>4.5</td>\n",
       "      <td>2009-01-02 01:13:41</td>\n",
       "    </tr>\n",
       "  </tbody>\n",
       "</table>\n",
       "</div>"
      ],
      "text/plain": [
       "   movieId             title                                       genres  \\\n",
       "0        1  Toy Story (1995)  Adventure|Animation|Children|Comedy|Fantasy   \n",
       "1        1  Toy Story (1995)  Adventure|Animation|Children|Comedy|Fantasy   \n",
       "2        1  Toy Story (1995)  Adventure|Animation|Children|Comedy|Fantasy   \n",
       "3        1  Toy Story (1995)  Adventure|Animation|Children|Comedy|Fantasy   \n",
       "4        1  Toy Story (1995)  Adventure|Animation|Children|Comedy|Fantasy   \n",
       "\n",
       "  normalized_title  userId  rating            timestamp  \n",
       "0        Toy Story       3     4.0  1999-12-11 13:36:47  \n",
       "1        Toy Story       6     5.0  1997-03-13 17:50:52  \n",
       "2        Toy Story       8     4.0  1996-06-05 13:37:51  \n",
       "3        Toy Story      10     4.0  1999-11-25 02:44:47  \n",
       "4        Toy Story      11     4.5  2009-01-02 01:13:41  "
      ]
     },
     "execution_count": 15,
     "metadata": {},
     "output_type": "execute_result"
    }
   ],
   "source": [
    "movies.head(5)"
   ]
  },
  {
   "cell_type": "markdown",
   "metadata": {},
   "source": [
    "## Data Preprocessing"
   ]
  },
  {
   "cell_type": "code",
   "execution_count": 16,
   "metadata": {
    "execution": {
     "iopub.execute_input": "2024-11-17T15:40:45.945690Z",
     "iopub.status.busy": "2024-11-17T15:40:45.945170Z",
     "iopub.status.idle": "2024-11-17T15:41:24.824491Z",
     "shell.execute_reply": "2024-11-17T15:41:24.823234Z",
     "shell.execute_reply.started": "2024-11-17T15:40:45.945645Z"
    }
   },
   "outputs": [],
   "source": [
    "\n",
    "movies['genres'] = movies['genres'].str.split('|')"
   ]
  },
  {
   "cell_type": "code",
   "execution_count": 17,
   "metadata": {
    "execution": {
     "iopub.execute_input": "2024-11-17T15:41:38.279371Z",
     "iopub.status.busy": "2024-11-17T15:41:38.278892Z",
     "iopub.status.idle": "2024-11-17T15:41:38.300539Z",
     "shell.execute_reply": "2024-11-17T15:41:38.299453Z",
     "shell.execute_reply.started": "2024-11-17T15:41:38.279326Z"
    }
   },
   "outputs": [
    {
     "data": {
      "text/html": [
       "<div>\n",
       "<style scoped>\n",
       "    .dataframe tbody tr th:only-of-type {\n",
       "        vertical-align: middle;\n",
       "    }\n",
       "\n",
       "    .dataframe tbody tr th {\n",
       "        vertical-align: top;\n",
       "    }\n",
       "\n",
       "    .dataframe thead th {\n",
       "        text-align: right;\n",
       "    }\n",
       "</style>\n",
       "<table border=\"1\" class=\"dataframe\">\n",
       "  <thead>\n",
       "    <tr style=\"text-align: right;\">\n",
       "      <th></th>\n",
       "      <th>movieId</th>\n",
       "      <th>title</th>\n",
       "      <th>genres</th>\n",
       "      <th>normalized_title</th>\n",
       "      <th>userId</th>\n",
       "      <th>rating</th>\n",
       "      <th>timestamp</th>\n",
       "    </tr>\n",
       "  </thead>\n",
       "  <tbody>\n",
       "    <tr>\n",
       "      <th>0</th>\n",
       "      <td>1</td>\n",
       "      <td>Toy Story (1995)</td>\n",
       "      <td>[Adventure, Animation, Children, Comedy, Fantasy]</td>\n",
       "      <td>Toy Story</td>\n",
       "      <td>3</td>\n",
       "      <td>4.0</td>\n",
       "      <td>1999-12-11 13:36:47</td>\n",
       "    </tr>\n",
       "    <tr>\n",
       "      <th>1</th>\n",
       "      <td>1</td>\n",
       "      <td>Toy Story (1995)</td>\n",
       "      <td>[Adventure, Animation, Children, Comedy, Fantasy]</td>\n",
       "      <td>Toy Story</td>\n",
       "      <td>6</td>\n",
       "      <td>5.0</td>\n",
       "      <td>1997-03-13 17:50:52</td>\n",
       "    </tr>\n",
       "    <tr>\n",
       "      <th>2</th>\n",
       "      <td>1</td>\n",
       "      <td>Toy Story (1995)</td>\n",
       "      <td>[Adventure, Animation, Children, Comedy, Fantasy]</td>\n",
       "      <td>Toy Story</td>\n",
       "      <td>8</td>\n",
       "      <td>4.0</td>\n",
       "      <td>1996-06-05 13:37:51</td>\n",
       "    </tr>\n",
       "    <tr>\n",
       "      <th>3</th>\n",
       "      <td>1</td>\n",
       "      <td>Toy Story (1995)</td>\n",
       "      <td>[Adventure, Animation, Children, Comedy, Fantasy]</td>\n",
       "      <td>Toy Story</td>\n",
       "      <td>10</td>\n",
       "      <td>4.0</td>\n",
       "      <td>1999-11-25 02:44:47</td>\n",
       "    </tr>\n",
       "    <tr>\n",
       "      <th>4</th>\n",
       "      <td>1</td>\n",
       "      <td>Toy Story (1995)</td>\n",
       "      <td>[Adventure, Animation, Children, Comedy, Fantasy]</td>\n",
       "      <td>Toy Story</td>\n",
       "      <td>11</td>\n",
       "      <td>4.5</td>\n",
       "      <td>2009-01-02 01:13:41</td>\n",
       "    </tr>\n",
       "    <tr>\n",
       "      <th>...</th>\n",
       "      <td>...</td>\n",
       "      <td>...</td>\n",
       "      <td>...</td>\n",
       "      <td>...</td>\n",
       "      <td>...</td>\n",
       "      <td>...</td>\n",
       "      <td>...</td>\n",
       "    </tr>\n",
       "    <tr>\n",
       "      <th>19667873</th>\n",
       "      <td>131252</td>\n",
       "      <td>Forklift Driver Klaus: The First Day on the Jo...</td>\n",
       "      <td>[Comedy, Horror]</td>\n",
       "      <td>Forklift Driver Klaus: The First Day on the Job</td>\n",
       "      <td>79570</td>\n",
       "      <td>4.0</td>\n",
       "      <td>2015-03-30 19:20:55</td>\n",
       "    </tr>\n",
       "    <tr>\n",
       "      <th>19667874</th>\n",
       "      <td>131254</td>\n",
       "      <td>Kein Bund für's Leben (2007)</td>\n",
       "      <td>[Comedy]</td>\n",
       "      <td>Kein Bund für's Leben</td>\n",
       "      <td>79570</td>\n",
       "      <td>4.0</td>\n",
       "      <td>2015-03-30 19:32:59</td>\n",
       "    </tr>\n",
       "    <tr>\n",
       "      <th>19667875</th>\n",
       "      <td>131256</td>\n",
       "      <td>Feuer, Eis &amp; Dosenbier (2002)</td>\n",
       "      <td>[Comedy]</td>\n",
       "      <td>Feuer, Eis &amp; Dosenbier</td>\n",
       "      <td>79570</td>\n",
       "      <td>4.0</td>\n",
       "      <td>2015-03-30 19:48:08</td>\n",
       "    </tr>\n",
       "    <tr>\n",
       "      <th>19667876</th>\n",
       "      <td>131258</td>\n",
       "      <td>The Pirates (2014)</td>\n",
       "      <td>[Adventure]</td>\n",
       "      <td>The Pirates</td>\n",
       "      <td>28906</td>\n",
       "      <td>2.5</td>\n",
       "      <td>2015-03-30 19:56:32</td>\n",
       "    </tr>\n",
       "    <tr>\n",
       "      <th>19667877</th>\n",
       "      <td>131260</td>\n",
       "      <td>Rentun Ruusu (2001)</td>\n",
       "      <td>[(no genres listed)]</td>\n",
       "      <td>Rentun Ruusu</td>\n",
       "      <td>65409</td>\n",
       "      <td>3.0</td>\n",
       "      <td>2015-03-30 19:57:46</td>\n",
       "    </tr>\n",
       "  </tbody>\n",
       "</table>\n",
       "<p>19667878 rows × 7 columns</p>\n",
       "</div>"
      ],
      "text/plain": [
       "          movieId                                              title  \\\n",
       "0               1                                   Toy Story (1995)   \n",
       "1               1                                   Toy Story (1995)   \n",
       "2               1                                   Toy Story (1995)   \n",
       "3               1                                   Toy Story (1995)   \n",
       "4               1                                   Toy Story (1995)   \n",
       "...           ...                                                ...   \n",
       "19667873   131252  Forklift Driver Klaus: The First Day on the Jo...   \n",
       "19667874   131254                       Kein Bund für's Leben (2007)   \n",
       "19667875   131256                      Feuer, Eis & Dosenbier (2002)   \n",
       "19667876   131258                                 The Pirates (2014)   \n",
       "19667877   131260                                Rentun Ruusu (2001)   \n",
       "\n",
       "                                                     genres  \\\n",
       "0         [Adventure, Animation, Children, Comedy, Fantasy]   \n",
       "1         [Adventure, Animation, Children, Comedy, Fantasy]   \n",
       "2         [Adventure, Animation, Children, Comedy, Fantasy]   \n",
       "3         [Adventure, Animation, Children, Comedy, Fantasy]   \n",
       "4         [Adventure, Animation, Children, Comedy, Fantasy]   \n",
       "...                                                     ...   \n",
       "19667873                                   [Comedy, Horror]   \n",
       "19667874                                           [Comedy]   \n",
       "19667875                                           [Comedy]   \n",
       "19667876                                        [Adventure]   \n",
       "19667877                               [(no genres listed)]   \n",
       "\n",
       "                                         normalized_title  userId  rating  \\\n",
       "0                                               Toy Story       3     4.0   \n",
       "1                                               Toy Story       6     5.0   \n",
       "2                                               Toy Story       8     4.0   \n",
       "3                                               Toy Story      10     4.0   \n",
       "4                                               Toy Story      11     4.5   \n",
       "...                                                   ...     ...     ...   \n",
       "19667873  Forklift Driver Klaus: The First Day on the Job   79570     4.0   \n",
       "19667874                            Kein Bund für's Leben   79570     4.0   \n",
       "19667875                           Feuer, Eis & Dosenbier   79570     4.0   \n",
       "19667876                                      The Pirates   28906     2.5   \n",
       "19667877                                     Rentun Ruusu   65409     3.0   \n",
       "\n",
       "                    timestamp  \n",
       "0         1999-12-11 13:36:47  \n",
       "1         1997-03-13 17:50:52  \n",
       "2         1996-06-05 13:37:51  \n",
       "3         1999-11-25 02:44:47  \n",
       "4         2009-01-02 01:13:41  \n",
       "...                       ...  \n",
       "19667873  2015-03-30 19:20:55  \n",
       "19667874  2015-03-30 19:32:59  \n",
       "19667875  2015-03-30 19:48:08  \n",
       "19667876  2015-03-30 19:56:32  \n",
       "19667877  2015-03-30 19:57:46  \n",
       "\n",
       "[19667878 rows x 7 columns]"
      ]
     },
     "execution_count": 17,
     "metadata": {},
     "output_type": "execute_result"
    }
   ],
   "source": [
    "movies"
   ]
  },
  {
   "cell_type": "code",
   "execution_count": 18,
   "metadata": {
    "execution": {
     "iopub.execute_input": "2024-11-17T15:41:42.604235Z",
     "iopub.status.busy": "2024-11-17T15:41:42.603284Z",
     "iopub.status.idle": "2024-11-17T15:41:43.893810Z",
     "shell.execute_reply": "2024-11-17T15:41:43.892642Z",
     "shell.execute_reply.started": "2024-11-17T15:41:42.604181Z"
    }
   },
   "outputs": [],
   "source": [
    "movies = movies[['movieId','normalized_title','rating','genres']]\n"
   ]
  },
  {
   "cell_type": "code",
   "execution_count": 19,
   "metadata": {
    "execution": {
     "iopub.execute_input": "2024-11-17T15:41:46.897002Z",
     "iopub.status.busy": "2024-11-17T15:41:46.896548Z",
     "iopub.status.idle": "2024-11-17T15:41:59.824200Z",
     "shell.execute_reply": "2024-11-17T15:41:59.822349Z",
     "shell.execute_reply.started": "2024-11-17T15:41:46.896944Z"
    }
   },
   "outputs": [],
   "source": [
    "movies.loc[:, 'genres'] = movies['genres'].apply(lambda x: '|'.join(sorted(x)) if isinstance(x, list) else x)\n"
   ]
  },
  {
   "cell_type": "code",
   "execution_count": 20,
   "metadata": {
    "execution": {
     "iopub.execute_input": "2024-11-17T15:42:08.618664Z",
     "iopub.status.busy": "2024-11-17T15:42:08.617743Z",
     "iopub.status.idle": "2024-11-17T15:42:08.633054Z",
     "shell.execute_reply": "2024-11-17T15:42:08.631883Z",
     "shell.execute_reply.started": "2024-11-17T15:42:08.618620Z"
    }
   },
   "outputs": [
    {
     "data": {
      "text/html": [
       "<div>\n",
       "<style scoped>\n",
       "    .dataframe tbody tr th:only-of-type {\n",
       "        vertical-align: middle;\n",
       "    }\n",
       "\n",
       "    .dataframe tbody tr th {\n",
       "        vertical-align: top;\n",
       "    }\n",
       "\n",
       "    .dataframe thead th {\n",
       "        text-align: right;\n",
       "    }\n",
       "</style>\n",
       "<table border=\"1\" class=\"dataframe\">\n",
       "  <thead>\n",
       "    <tr style=\"text-align: right;\">\n",
       "      <th></th>\n",
       "      <th>movieId</th>\n",
       "      <th>normalized_title</th>\n",
       "      <th>rating</th>\n",
       "      <th>genres</th>\n",
       "    </tr>\n",
       "  </thead>\n",
       "  <tbody>\n",
       "    <tr>\n",
       "      <th>0</th>\n",
       "      <td>1</td>\n",
       "      <td>Toy Story</td>\n",
       "      <td>4.0</td>\n",
       "      <td>Adventure|Animation|Children|Comedy|Fantasy</td>\n",
       "    </tr>\n",
       "    <tr>\n",
       "      <th>1</th>\n",
       "      <td>1</td>\n",
       "      <td>Toy Story</td>\n",
       "      <td>5.0</td>\n",
       "      <td>Adventure|Animation|Children|Comedy|Fantasy</td>\n",
       "    </tr>\n",
       "    <tr>\n",
       "      <th>2</th>\n",
       "      <td>1</td>\n",
       "      <td>Toy Story</td>\n",
       "      <td>4.0</td>\n",
       "      <td>Adventure|Animation|Children|Comedy|Fantasy</td>\n",
       "    </tr>\n",
       "    <tr>\n",
       "      <th>3</th>\n",
       "      <td>1</td>\n",
       "      <td>Toy Story</td>\n",
       "      <td>4.0</td>\n",
       "      <td>Adventure|Animation|Children|Comedy|Fantasy</td>\n",
       "    </tr>\n",
       "    <tr>\n",
       "      <th>4</th>\n",
       "      <td>1</td>\n",
       "      <td>Toy Story</td>\n",
       "      <td>4.5</td>\n",
       "      <td>Adventure|Animation|Children|Comedy|Fantasy</td>\n",
       "    </tr>\n",
       "    <tr>\n",
       "      <th>...</th>\n",
       "      <td>...</td>\n",
       "      <td>...</td>\n",
       "      <td>...</td>\n",
       "      <td>...</td>\n",
       "    </tr>\n",
       "    <tr>\n",
       "      <th>19667873</th>\n",
       "      <td>131252</td>\n",
       "      <td>Forklift Driver Klaus: The First Day on the Job</td>\n",
       "      <td>4.0</td>\n",
       "      <td>Comedy|Horror</td>\n",
       "    </tr>\n",
       "    <tr>\n",
       "      <th>19667874</th>\n",
       "      <td>131254</td>\n",
       "      <td>Kein Bund für's Leben</td>\n",
       "      <td>4.0</td>\n",
       "      <td>Comedy</td>\n",
       "    </tr>\n",
       "    <tr>\n",
       "      <th>19667875</th>\n",
       "      <td>131256</td>\n",
       "      <td>Feuer, Eis &amp; Dosenbier</td>\n",
       "      <td>4.0</td>\n",
       "      <td>Comedy</td>\n",
       "    </tr>\n",
       "    <tr>\n",
       "      <th>19667876</th>\n",
       "      <td>131258</td>\n",
       "      <td>The Pirates</td>\n",
       "      <td>2.5</td>\n",
       "      <td>Adventure</td>\n",
       "    </tr>\n",
       "    <tr>\n",
       "      <th>19667877</th>\n",
       "      <td>131260</td>\n",
       "      <td>Rentun Ruusu</td>\n",
       "      <td>3.0</td>\n",
       "      <td>(no genres listed)</td>\n",
       "    </tr>\n",
       "  </tbody>\n",
       "</table>\n",
       "<p>19667878 rows × 4 columns</p>\n",
       "</div>"
      ],
      "text/plain": [
       "          movieId                                 normalized_title  rating  \\\n",
       "0               1                                        Toy Story     4.0   \n",
       "1               1                                        Toy Story     5.0   \n",
       "2               1                                        Toy Story     4.0   \n",
       "3               1                                        Toy Story     4.0   \n",
       "4               1                                        Toy Story     4.5   \n",
       "...           ...                                              ...     ...   \n",
       "19667873   131252  Forklift Driver Klaus: The First Day on the Job     4.0   \n",
       "19667874   131254                            Kein Bund für's Leben     4.0   \n",
       "19667875   131256                           Feuer, Eis & Dosenbier     4.0   \n",
       "19667876   131258                                      The Pirates     2.5   \n",
       "19667877   131260                                     Rentun Ruusu     3.0   \n",
       "\n",
       "                                               genres  \n",
       "0         Adventure|Animation|Children|Comedy|Fantasy  \n",
       "1         Adventure|Animation|Children|Comedy|Fantasy  \n",
       "2         Adventure|Animation|Children|Comedy|Fantasy  \n",
       "3         Adventure|Animation|Children|Comedy|Fantasy  \n",
       "4         Adventure|Animation|Children|Comedy|Fantasy  \n",
       "...                                               ...  \n",
       "19667873                                Comedy|Horror  \n",
       "19667874                                       Comedy  \n",
       "19667875                                       Comedy  \n",
       "19667876                                    Adventure  \n",
       "19667877                           (no genres listed)  \n",
       "\n",
       "[19667878 rows x 4 columns]"
      ]
     },
     "execution_count": 20,
     "metadata": {},
     "output_type": "execute_result"
    }
   ],
   "source": [
    "movies"
   ]
  },
  {
   "cell_type": "code",
   "execution_count": 21,
   "metadata": {
    "execution": {
     "iopub.execute_input": "2024-11-17T15:42:12.350846Z",
     "iopub.status.busy": "2024-11-17T15:42:12.349737Z",
     "iopub.status.idle": "2024-11-17T15:42:12.357479Z",
     "shell.execute_reply": "2024-11-17T15:42:12.356000Z",
     "shell.execute_reply.started": "2024-11-17T15:42:12.350785Z"
    }
   },
   "outputs": [],
   "source": [
    "def calculate_mode(series):\n",
    "    mode_values = series.mode()\n",
    "    return mode_values[0] if not mode_values.empty else None  # Handle empty modes\n"
   ]
  },
  {
   "cell_type": "code",
   "execution_count": 22,
   "metadata": {
    "execution": {
     "iopub.execute_input": "2024-11-17T15:42:15.099264Z",
     "iopub.status.busy": "2024-11-17T15:42:15.098807Z",
     "iopub.status.idle": "2024-11-17T15:42:15.109280Z",
     "shell.execute_reply": "2024-11-17T15:42:15.107869Z",
     "shell.execute_reply.started": "2024-11-17T15:42:15.099212Z"
    }
   },
   "outputs": [
    {
     "data": {
      "text/plain": [
       "0           Adventure|Animation|Children|Comedy|Fantasy\n",
       "1           Adventure|Animation|Children|Comedy|Fantasy\n",
       "2           Adventure|Animation|Children|Comedy|Fantasy\n",
       "3           Adventure|Animation|Children|Comedy|Fantasy\n",
       "4           Adventure|Animation|Children|Comedy|Fantasy\n",
       "                               ...                     \n",
       "19667873                                  Comedy|Horror\n",
       "19667874                                         Comedy\n",
       "19667875                                         Comedy\n",
       "19667876                                      Adventure\n",
       "19667877                             (no genres listed)\n",
       "Name: genres, Length: 19667878, dtype: object"
      ]
     },
     "execution_count": 22,
     "metadata": {},
     "output_type": "execute_result"
    }
   ],
   "source": [
    "movies['genres']"
   ]
  },
  {
   "cell_type": "code",
   "execution_count": 23,
   "metadata": {
    "execution": {
     "iopub.execute_input": "2024-11-17T15:42:20.255589Z",
     "iopub.status.busy": "2024-11-17T15:42:20.255005Z",
     "iopub.status.idle": "2024-11-17T15:42:30.245305Z",
     "shell.execute_reply": "2024-11-17T15:42:30.244023Z",
     "shell.execute_reply.started": "2024-11-17T15:42:20.255536Z"
    }
   },
   "outputs": [],
   "source": [
    "mode_ratings = movies.groupby('movieId')['rating'].apply(calculate_mode).reset_index()\n",
    "\n",
    "mode_ratings.rename(columns={'rating': 'mode_rating'}, inplace=True)\n",
    "\n",
    "unique_movies = movies[['movieId', 'normalized_title', 'genres']].drop_duplicates()\n",
    "\n",
    "movies_with_mode = unique_movies.merge(mode_ratings, on='movieId', how='left')\n"
   ]
  },
  {
   "cell_type": "code",
   "execution_count": 24,
   "metadata": {
    "execution": {
     "iopub.execute_input": "2024-11-17T15:42:36.222783Z",
     "iopub.status.busy": "2024-11-17T15:42:36.222358Z",
     "iopub.status.idle": "2024-11-17T15:42:36.238030Z",
     "shell.execute_reply": "2024-11-17T15:42:36.236791Z",
     "shell.execute_reply.started": "2024-11-17T15:42:36.222745Z"
    }
   },
   "outputs": [
    {
     "data": {
      "text/html": [
       "<div>\n",
       "<style scoped>\n",
       "    .dataframe tbody tr th:only-of-type {\n",
       "        vertical-align: middle;\n",
       "    }\n",
       "\n",
       "    .dataframe tbody tr th {\n",
       "        vertical-align: top;\n",
       "    }\n",
       "\n",
       "    .dataframe thead th {\n",
       "        text-align: right;\n",
       "    }\n",
       "</style>\n",
       "<table border=\"1\" class=\"dataframe\">\n",
       "  <thead>\n",
       "    <tr style=\"text-align: right;\">\n",
       "      <th></th>\n",
       "      <th>movieId</th>\n",
       "      <th>normalized_title</th>\n",
       "      <th>genres</th>\n",
       "      <th>mode_rating</th>\n",
       "    </tr>\n",
       "  </thead>\n",
       "  <tbody>\n",
       "    <tr>\n",
       "      <th>0</th>\n",
       "      <td>1</td>\n",
       "      <td>Toy Story</td>\n",
       "      <td>Adventure|Animation|Children|Comedy|Fantasy</td>\n",
       "      <td>4.0</td>\n",
       "    </tr>\n",
       "    <tr>\n",
       "      <th>1</th>\n",
       "      <td>2</td>\n",
       "      <td>Jumanji</td>\n",
       "      <td>Adventure|Children|Fantasy</td>\n",
       "      <td>3.0</td>\n",
       "    </tr>\n",
       "    <tr>\n",
       "      <th>2</th>\n",
       "      <td>3</td>\n",
       "      <td>Grumpier Old Men</td>\n",
       "      <td>Comedy|Romance</td>\n",
       "      <td>3.0</td>\n",
       "    </tr>\n",
       "    <tr>\n",
       "      <th>3</th>\n",
       "      <td>4</td>\n",
       "      <td>Waiting to Exhale</td>\n",
       "      <td>Comedy|Drama|Romance</td>\n",
       "      <td>3.0</td>\n",
       "    </tr>\n",
       "    <tr>\n",
       "      <th>4</th>\n",
       "      <td>5</td>\n",
       "      <td>Father of the Bride Part II</td>\n",
       "      <td>Comedy</td>\n",
       "      <td>3.0</td>\n",
       "    </tr>\n",
       "    <tr>\n",
       "      <th>...</th>\n",
       "      <td>...</td>\n",
       "      <td>...</td>\n",
       "      <td>...</td>\n",
       "      <td>...</td>\n",
       "    </tr>\n",
       "    <tr>\n",
       "      <th>25710</th>\n",
       "      <td>131252</td>\n",
       "      <td>Forklift Driver Klaus: The First Day on the Job</td>\n",
       "      <td>Comedy|Horror</td>\n",
       "      <td>4.0</td>\n",
       "    </tr>\n",
       "    <tr>\n",
       "      <th>25711</th>\n",
       "      <td>131254</td>\n",
       "      <td>Kein Bund für's Leben</td>\n",
       "      <td>Comedy</td>\n",
       "      <td>4.0</td>\n",
       "    </tr>\n",
       "    <tr>\n",
       "      <th>25712</th>\n",
       "      <td>131256</td>\n",
       "      <td>Feuer, Eis &amp; Dosenbier</td>\n",
       "      <td>Comedy</td>\n",
       "      <td>4.0</td>\n",
       "    </tr>\n",
       "    <tr>\n",
       "      <th>25713</th>\n",
       "      <td>131258</td>\n",
       "      <td>The Pirates</td>\n",
       "      <td>Adventure</td>\n",
       "      <td>2.5</td>\n",
       "    </tr>\n",
       "    <tr>\n",
       "      <th>25714</th>\n",
       "      <td>131260</td>\n",
       "      <td>Rentun Ruusu</td>\n",
       "      <td>(no genres listed)</td>\n",
       "      <td>3.0</td>\n",
       "    </tr>\n",
       "  </tbody>\n",
       "</table>\n",
       "<p>25715 rows × 4 columns</p>\n",
       "</div>"
      ],
      "text/plain": [
       "       movieId                                 normalized_title  \\\n",
       "0            1                                        Toy Story   \n",
       "1            2                                          Jumanji   \n",
       "2            3                                 Grumpier Old Men   \n",
       "3            4                                Waiting to Exhale   \n",
       "4            5                      Father of the Bride Part II   \n",
       "...        ...                                              ...   \n",
       "25710   131252  Forklift Driver Klaus: The First Day on the Job   \n",
       "25711   131254                            Kein Bund für's Leben   \n",
       "25712   131256                           Feuer, Eis & Dosenbier   \n",
       "25713   131258                                      The Pirates   \n",
       "25714   131260                                     Rentun Ruusu   \n",
       "\n",
       "                                            genres  mode_rating  \n",
       "0      Adventure|Animation|Children|Comedy|Fantasy          4.0  \n",
       "1                       Adventure|Children|Fantasy          3.0  \n",
       "2                                   Comedy|Romance          3.0  \n",
       "3                             Comedy|Drama|Romance          3.0  \n",
       "4                                           Comedy          3.0  \n",
       "...                                            ...          ...  \n",
       "25710                                Comedy|Horror          4.0  \n",
       "25711                                       Comedy          4.0  \n",
       "25712                                       Comedy          4.0  \n",
       "25713                                    Adventure          2.5  \n",
       "25714                           (no genres listed)          3.0  \n",
       "\n",
       "[25715 rows x 4 columns]"
      ]
     },
     "execution_count": 24,
     "metadata": {},
     "output_type": "execute_result"
    }
   ],
   "source": [
    "movies_with_mode"
   ]
  },
  {
   "cell_type": "code",
   "execution_count": 25,
   "metadata": {
    "execution": {
     "iopub.execute_input": "2024-11-17T15:43:17.490195Z",
     "iopub.status.busy": "2024-11-17T15:43:17.489583Z",
     "iopub.status.idle": "2024-11-17T15:43:17.581287Z",
     "shell.execute_reply": "2024-11-17T15:43:17.579711Z",
     "shell.execute_reply.started": "2024-11-17T15:43:17.490142Z"
    }
   },
   "outputs": [],
   "source": [
    "movies_with_mode.to_csv('movies_with_mode.csv', index=False)"
   ]
  },
  {
   "cell_type": "markdown",
   "metadata": {},
   "source": [
    "## Model Building"
   ]
  },
  {
   "cell_type": "markdown",
   "metadata": {},
   "source": [
    "- Step 1:Reconstruct the User-Movie Matrix\n",
    "You need user ratings to align with the mode_ratings dataset."
   ]
  },
  {
   "cell_type": "code",
   "execution_count": 3,
   "metadata": {
    "execution": {
     "iopub.execute_input": "2024-11-18T04:09:17.167494Z",
     "iopub.status.busy": "2024-11-18T04:09:17.167021Z",
     "iopub.status.idle": "2024-11-18T04:09:17.206619Z",
     "shell.execute_reply": "2024-11-18T04:09:17.205454Z",
     "shell.execute_reply.started": "2024-11-18T04:09:17.167449Z"
    }
   },
   "outputs": [
    {
     "data": {
      "text/html": [
       "<div>\n",
       "<style scoped>\n",
       "    .dataframe tbody tr th:only-of-type {\n",
       "        vertical-align: middle;\n",
       "    }\n",
       "\n",
       "    .dataframe tbody tr th {\n",
       "        vertical-align: top;\n",
       "    }\n",
       "\n",
       "    .dataframe thead th {\n",
       "        text-align: right;\n",
       "    }\n",
       "</style>\n",
       "<table border=\"1\" class=\"dataframe\">\n",
       "  <thead>\n",
       "    <tr style=\"text-align: right;\">\n",
       "      <th></th>\n",
       "      <th>movieId</th>\n",
       "      <th>normalized_title</th>\n",
       "      <th>genres</th>\n",
       "      <th>mode_rating</th>\n",
       "    </tr>\n",
       "  </thead>\n",
       "  <tbody>\n",
       "    <tr>\n",
       "      <th>0</th>\n",
       "      <td>1</td>\n",
       "      <td>Toy Story</td>\n",
       "      <td>Adventure|Animation|Children|Comedy|Fantasy</td>\n",
       "      <td>4.0</td>\n",
       "    </tr>\n",
       "    <tr>\n",
       "      <th>1</th>\n",
       "      <td>2</td>\n",
       "      <td>Jumanji</td>\n",
       "      <td>Adventure|Children|Fantasy</td>\n",
       "      <td>3.0</td>\n",
       "    </tr>\n",
       "    <tr>\n",
       "      <th>2</th>\n",
       "      <td>3</td>\n",
       "      <td>Grumpier Old Men</td>\n",
       "      <td>Comedy|Romance</td>\n",
       "      <td>3.0</td>\n",
       "    </tr>\n",
       "    <tr>\n",
       "      <th>3</th>\n",
       "      <td>4</td>\n",
       "      <td>Waiting to Exhale</td>\n",
       "      <td>Comedy|Drama|Romance</td>\n",
       "      <td>3.0</td>\n",
       "    </tr>\n",
       "    <tr>\n",
       "      <th>4</th>\n",
       "      <td>5</td>\n",
       "      <td>Father of the Bride Part II</td>\n",
       "      <td>Comedy</td>\n",
       "      <td>3.0</td>\n",
       "    </tr>\n",
       "    <tr>\n",
       "      <th>...</th>\n",
       "      <td>...</td>\n",
       "      <td>...</td>\n",
       "      <td>...</td>\n",
       "      <td>...</td>\n",
       "    </tr>\n",
       "    <tr>\n",
       "      <th>25710</th>\n",
       "      <td>131252</td>\n",
       "      <td>Forklift Driver Klaus: The First Day on the Job</td>\n",
       "      <td>Comedy|Horror</td>\n",
       "      <td>4.0</td>\n",
       "    </tr>\n",
       "    <tr>\n",
       "      <th>25711</th>\n",
       "      <td>131254</td>\n",
       "      <td>Kein Bund für's Leben</td>\n",
       "      <td>Comedy</td>\n",
       "      <td>4.0</td>\n",
       "    </tr>\n",
       "    <tr>\n",
       "      <th>25712</th>\n",
       "      <td>131256</td>\n",
       "      <td>Feuer, Eis &amp; Dosenbier</td>\n",
       "      <td>Comedy</td>\n",
       "      <td>4.0</td>\n",
       "    </tr>\n",
       "    <tr>\n",
       "      <th>25713</th>\n",
       "      <td>131258</td>\n",
       "      <td>The Pirates</td>\n",
       "      <td>Adventure</td>\n",
       "      <td>2.5</td>\n",
       "    </tr>\n",
       "    <tr>\n",
       "      <th>25714</th>\n",
       "      <td>131260</td>\n",
       "      <td>Rentun Ruusu</td>\n",
       "      <td>(no genres listed)</td>\n",
       "      <td>3.0</td>\n",
       "    </tr>\n",
       "  </tbody>\n",
       "</table>\n",
       "<p>25715 rows × 4 columns</p>\n",
       "</div>"
      ],
      "text/plain": [
       "       movieId                                 normalized_title  \\\n",
       "0            1                                        Toy Story   \n",
       "1            2                                          Jumanji   \n",
       "2            3                                 Grumpier Old Men   \n",
       "3            4                                Waiting to Exhale   \n",
       "4            5                      Father of the Bride Part II   \n",
       "...        ...                                              ...   \n",
       "25710   131252  Forklift Driver Klaus: The First Day on the Job   \n",
       "25711   131254                            Kein Bund für's Leben   \n",
       "25712   131256                           Feuer, Eis & Dosenbier   \n",
       "25713   131258                                      The Pirates   \n",
       "25714   131260                                     Rentun Ruusu   \n",
       "\n",
       "                                            genres  mode_rating  \n",
       "0      Adventure|Animation|Children|Comedy|Fantasy          4.0  \n",
       "1                       Adventure|Children|Fantasy          3.0  \n",
       "2                                   Comedy|Romance          3.0  \n",
       "3                             Comedy|Drama|Romance          3.0  \n",
       "4                                           Comedy          3.0  \n",
       "...                                            ...          ...  \n",
       "25710                                Comedy|Horror          4.0  \n",
       "25711                                       Comedy          4.0  \n",
       "25712                                       Comedy          4.0  \n",
       "25713                                    Adventure          2.5  \n",
       "25714                           (no genres listed)          3.0  \n",
       "\n",
       "[25715 rows x 4 columns]"
      ]
     },
     "execution_count": 3,
     "metadata": {},
     "output_type": "execute_result"
    }
   ],
   "source": [
    "movies_with_mode"
   ]
  },
  {
   "cell_type": "code",
   "execution_count": 4,
   "metadata": {
    "execution": {
     "iopub.execute_input": "2024-11-18T04:09:20.356218Z",
     "iopub.status.busy": "2024-11-18T04:09:20.355723Z",
     "iopub.status.idle": "2024-11-18T04:09:21.082399Z",
     "shell.execute_reply": "2024-11-18T04:09:21.080831Z",
     "shell.execute_reply.started": "2024-11-18T04:09:20.356156Z"
    }
   },
   "outputs": [],
   "source": [
    "from sklearn.preprocessing import MultiLabelBinarizer\n",
    "from sklearn.metrics.pairwise import cosine_similarity"
   ]
  },
  {
   "cell_type": "code",
   "execution_count": 20,
   "metadata": {
    "execution": {
     "iopub.execute_input": "2024-11-18T04:29:42.983146Z",
     "iopub.status.busy": "2024-11-18T04:29:42.982597Z",
     "iopub.status.idle": "2024-11-18T04:29:47.829094Z",
     "shell.execute_reply": "2024-11-18T04:29:47.827880Z",
     "shell.execute_reply.started": "2024-11-18T04:29:42.983100Z"
    }
   },
   "outputs": [],
   "source": [
    "from fuzzywuzzy import process\n",
    "from sklearn.preprocessing import MinMaxScaler\n",
    "\n",
    "\n",
    "movies_with_mode['genres_list'] = movies_with_mode['genres'].str.split('|')\n",
    "mlb = MultiLabelBinarizer()\n",
    "genre_matrix = mlb.fit_transform(movies_with_mode['genres_list'])\n",
    "\n",
    "\n",
    "genre_df = pd.DataFrame(genre_matrix, columns=mlb.classes_, index=movies_with_mode['movieId'])\n",
    "\n",
    "cosine_sim = cosine_similarity(genre_df)\n",
    "cosine_sim_df = pd.DataFrame(cosine_sim, index=movies_with_mode['movieId'], columns=movies_with_mode['movieId'])\n",
    "\n",
    "def recommend_movies(user_input, user_rating, cosine_sim_df, movies_with_mode, top_k=5):\n",
    "    exact_genre_movies = movies_with_mode[movies_with_mode['genres'].str.contains(user_input, case=False, na=False)]\n",
    "    exact_title_match = movies_with_mode[movies_with_mode['normalized_title'].str.lower() == user_input.lower()]\n",
    "\n",
    "    if not exact_title_match.empty:  \n",
    "        movie_id = exact_title_match.iloc[0]['movieId']\n",
    "        similar_movies = cosine_sim_df[movie_id].sort_values(ascending=False).iloc[1:top_k + 1]\n",
    "    elif not exact_genre_movies.empty:  \n",
    "        movie_ids = exact_genre_movies['movieId'].values\n",
    "        genre_similarities = cosine_sim_df.loc[movie_ids].mean(axis=0).sort_values(ascending=False)\n",
    "        similar_movies = genre_similarities.iloc[:top_k]\n",
    "    else:  \n",
    "        genre_match = process.extractOne(user_input, '|'.join(movies_with_mode['genres'].unique()).split('|'))\n",
    "        if genre_match and genre_match[1] > 80:\n",
    "            matched_genre = genre_match[0]\n",
    "            fuzzy_genre_movies = movies_with_mode[movies_with_mode['genres'].str.contains(matched_genre)]\n",
    "            movie_ids = fuzzy_genre_movies['movieId'].values\n",
    "            genre_similarities = cosine_sim_df.loc[movie_ids].mean(axis=0).sort_values(ascending=False)\n",
    "            similar_movies = genre_similarities.iloc[:top_k]\n",
    "        else:\n",
    "            print(\"Sorry, we couldn't find the movie or genre. Please check your input.\")\n",
    "            return pd.DataFrame()\n",
    "\n",
    "    \n",
    "    recommended_movies = movies_with_mode[movies_with_mode['movieId'].isin(similar_movies.index)].copy()\n",
    "\n",
    "    \n",
    "    print(f\"\\nRecommended Movies based on your input '{user_input}' (Genre/Name) with rating '{user_rating}':\")\n",
    "    print(recommended_movies[['normalized_title', 'genres']])\n",
    "    return recommended_movies"
   ]
  },
  {
   "cell_type": "code",
   "execution_count": 33,
   "metadata": {
    "execution": {
     "iopub.execute_input": "2024-11-18T04:52:32.230926Z",
     "iopub.status.busy": "2024-11-18T04:52:32.230398Z",
     "iopub.status.idle": "2024-11-18T04:52:32.243891Z",
     "shell.execute_reply": "2024-11-18T04:52:32.242298Z",
     "shell.execute_reply.started": "2024-11-18T04:52:32.230878Z"
    }
   },
   "outputs": [],
   "source": [
    "def predict_rating_for_unseen(user_rating, unseen_movie_name, unseen_movie_genre, cosine_sim_df, mode_ratings, movies_with_mode, top_k=5):\n",
    "    \"\"\"\n",
    "    Predict the rating for an unseen movie based on the genre and user rating, \n",
    "    using the mode ratings of similar movies and movie recommendations based on the genre.\n",
    "    \"\"\"\n",
    "    \n",
    "    recommended_movies = recommend_movies(unseen_movie_genre, user_rating, cosine_sim_df, movies_with_mode, top_k=top_k)\n",
    "    \n",
    "    if recommended_movies.empty:\n",
    "        print(\"Sorry, no recommendations found based on the provided genre.\")\n",
    "        return None\n",
    "\n",
    "    \n",
    "    recommended_movie_ids = recommended_movies['movieId'].values\n",
    "\n",
    "    \n",
    "    genre_similarities = cosine_sim_df.loc[recommended_movie_ids].mean(axis=0).sort_values(ascending=False)\n",
    "    \n",
    "    \n",
    "    similar_movies = genre_similarities.iloc[1:top_k+1]\n",
    "\n",
    "    \n",
    "    predicted_ratings = []\n",
    "    for movie_id in similar_movies.index:\n",
    "        \n",
    "        mode_rating = mode_ratings[mode_ratings['movieId'] == movie_id].mode_rating.values[0]\n",
    "        \n",
    "        # Combine the user's rating and the mode rating of the similar movie to predict the rating\n",
    "        predicted_rating = (user_rating + mode_rating) / 2\n",
    "        predicted_ratings.append(predicted_rating)\n",
    "\n",
    "    \n",
    "    predicted_movies = movies_with_mode[movies_with_mode['movieId'].isin(similar_movies.index)].copy()\n",
    "    \n",
    "    \n",
    "    predicted_movies['predicted_rating'] = predicted_ratings\n",
    "\n",
    "    \n",
    "    print(f\"\\nPredicted Rating for '{unseen_movie_name}': {predicted_ratings[0]:.2f}\")\n",
    "\n",
    "    return predicted_movies\n"
   ]
  },
  {
   "cell_type": "code",
   "execution_count": 22,
   "metadata": {
    "execution": {
     "iopub.execute_input": "2024-11-18T04:29:55.492054Z",
     "iopub.status.busy": "2024-11-18T04:29:55.491585Z",
     "iopub.status.idle": "2024-11-18T04:31:17.033368Z",
     "shell.execute_reply": "2024-11-18T04:31:17.032229Z",
     "shell.execute_reply.started": "2024-11-18T04:29:55.492003Z"
    }
   },
   "outputs": [
    {
     "name": "stdout",
     "output_type": "stream",
     "text": [
      "Welcome to the Movie Recommendation System!\n"
     ]
    },
    {
     "name": "stdin",
     "output_type": "stream",
     "text": [
      "Enter a movie name or genre:  Drama|Thriller|Action\n",
      "Enter your rating for the movie/genre:  3.5\n"
     ]
    },
    {
     "name": "stdout",
     "output_type": "stream",
     "text": [
      "\n",
      "Recommended Movies based on your input 'Drama|Thriller|Action' (Genre/Name) with rating '3.5':\n",
      "                                        normalized_title  \\\n",
      "860              Supercop 2 (Project S) (Chao ji ji hua)   \n",
      "3589                                      Action Jackson   \n",
      "3897   Nowhere to Hide (Injeong sajeong bol geot eobtda)   \n",
      "6404                 Remo Williams: The Adventure Begins   \n",
      "23687                                           Crackers   \n",
      "\n",
      "                             genres  \n",
      "860    Action|Comedy|Crime|Thriller  \n",
      "3589   Action|Comedy|Crime|Thriller  \n",
      "3897   Action|Comedy|Crime|Thriller  \n",
      "6404   Action|Comedy|Crime|Thriller  \n",
      "23687  Action|Comedy|Crime|Thriller  \n"
     ]
    },
    {
     "name": "stdin",
     "output_type": "stream",
     "text": [
      "Would you like to predict the rating for an unseen movie? (yes/no):  yes\n",
      "Enter the name of the unseen movie:  Sholay\n",
      "Enter the genre of the unseen movie:  Action}Musical\n",
      "Please provide your rating for the unseen movie 'Sholay':  5\n"
     ]
    },
    {
     "name": "stdout",
     "output_type": "stream",
     "text": [
      "\n",
      "Recommended Movies based on your input 'Action}Musical' (Genre/Name) with rating '5.0':\n",
      "            normalized_title      genres\n",
      "3023         Sea Wolves, The  Action|War\n",
      "3257  Bridge at Remagen, The  Action|War\n",
      "4220          Uncommon Valor  Action|War\n",
      "4230       Too Late the Hero  Action|War\n",
      "5806          Duellists, The  Action|War\n",
      "\n",
      "Predicted Rating for 'Sholay': 4.50\n",
      "\n",
      "Predicted Rating for 'Sholay': 4.50\n"
     ]
    }
   ],
   "source": [
    "def main():\n",
    "    print(\"Welcome to the Movie Recommendation System!\")\n",
    "    \n",
    "    \n",
    "    user_input = input(\"Enter a movie name or genre: \")\n",
    "    user_rating = float(input(\"Enter your rating for the movie/genre: \"))\n",
    "    \n",
    "    \n",
    "    recommended_movies = recommend_movies(user_input, user_rating, cosine_sim_df, movies_with_mode)\n",
    "    \n",
    "    if not recommended_movies.empty:\n",
    "        \n",
    "        predict_rating = input(\"Would you like to predict the rating for an unseen movie? (yes/no): \").lower()\n",
    "        \n",
    "        if predict_rating == 'yes':\n",
    "            \n",
    "            unseen_movie_name = input(\"Enter the name of the unseen movie: \")\n",
    "            unseen_movie_genre = input(\"Enter the genre of the unseen movie: \")\n",
    "            unseen_movie_rating = float(input(f\"Please provide your rating for the unseen movie '{unseen_movie_name}': \"))\n",
    "            \n",
    "            \n",
    "            predicted_movies = predict_rating_for_unseen(user_rating=unseen_movie_rating,\n",
    "                                                         unseen_movie_name=unseen_movie_name,\n",
    "                                                         unseen_movie_genre=unseen_movie_genre,\n",
    "                                                         cosine_sim_df=cosine_sim_df,\n",
    "                                                         mode_ratings=movies_with_mode[['movieId', 'mode_rating']],\n",
    "                                                         movies_with_mode=movies_with_mode, top_k=5)\n",
    "            \n",
    "            if predicted_movies is not None:\n",
    "                predicted_rating = predicted_movies['predicted_rating'].iloc[0]  \n",
    "                print(f\"\\nPredicted Rating for '{unseen_movie_name}': {predicted_rating:.2f}\")\n",
    "        else:\n",
    "            print(\"Thank you for using the Movie Recommendation System!\")\n",
    "    else:\n",
    "        print(\"Sorry, we couldn't find the movie or genre. Please check your input.\")\n",
    "        print(\"Thank you for using the Movie Recommendation System!\")\n",
    "\n",
    "\n",
    "main()\n"
   ]
  },
  {
   "cell_type": "code",
   "execution_count": 45,
   "metadata": {
    "execution": {
     "iopub.execute_input": "2024-11-18T05:19:53.124485Z",
     "iopub.status.busy": "2024-11-18T05:19:53.123902Z",
     "iopub.status.idle": "2024-11-18T05:20:06.434877Z",
     "shell.execute_reply": "2024-11-18T05:20:06.433459Z",
     "shell.execute_reply.started": "2024-11-18T05:19:53.124435Z"
    }
   },
   "outputs": [
    {
     "data": {
      "text/plain": [
       "['genre_binarizer.pkl']"
      ]
     },
     "execution_count": 45,
     "metadata": {},
     "output_type": "execute_result"
    }
   ],
   "source": [
    "import joblib\n",
    "\n",
    "# Save the model components\n",
    "joblib.dump(cosine_sim_df, 'cosine_similarity_matrix.pkl')  \n",
    "joblib.dump(mlb, 'genre_binarizer.pkl')"
   ]
  },
  {
   "cell_type": "code",
   "execution_count": null,
   "metadata": {},
   "outputs": [],
   "source": []
  }
 ],
 "metadata": {
  "kaggle": {
   "accelerator": "none",
   "dataSources": [
    {
     "datasetId": 339,
     "sourceId": 77759,
     "sourceType": "datasetVersion"
    }
   ],
   "dockerImageVersionId": 30786,
   "isGpuEnabled": false,
   "isInternetEnabled": true,
   "language": "python",
   "sourceType": "notebook"
  },
  "kernelspec": {
   "display_name": "Python 3 (ipykernel)",
   "language": "python",
   "name": "python3"
  },
  "language_info": {
   "codemirror_mode": {
    "name": "ipython",
    "version": 3
   },
   "file_extension": ".py",
   "mimetype": "text/x-python",
   "name": "python",
   "nbconvert_exporter": "python",
   "pygments_lexer": "ipython3",
   "version": "3.10.9"
  }
 },
 "nbformat": 4,
 "nbformat_minor": 4
}
